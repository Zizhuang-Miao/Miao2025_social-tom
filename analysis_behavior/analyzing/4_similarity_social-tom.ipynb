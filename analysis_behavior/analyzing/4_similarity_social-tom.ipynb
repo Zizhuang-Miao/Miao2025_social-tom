{
 "cells": [
  {
   "cell_type": "markdown",
   "metadata": {},
   "source": [
    "## Correlations between social interactions and theory of mind ratings\n",
    "\n",
    "Zizhuang Miao"
   ]
  },
  {
   "cell_type": "markdown",
   "metadata": {},
   "source": [
    "This notebook is used to calculate how similar, on the group level, the ratings for social interactions and theory of mind are. Separate correlations will be calculated for mean and median."
   ]
  },
  {
   "cell_type": "code",
   "execution_count": 1,
   "metadata": {},
   "outputs": [],
   "source": [
    "import pandas as pd\n",
    "import numpy as np\n",
    "import matplotlib.pyplot as plt\n",
    "import seaborn as sns\n",
    "import os"
   ]
  },
  {
   "cell_type": "markdown",
   "metadata": {},
   "source": [
    "#### Calculate correlations"
   ]
  },
  {
   "cell_type": "code",
   "execution_count": null,
   "metadata": {},
   "outputs": [],
   "source": [
    "socialDataDir = 'C:\\\\'\n",
    "tomDataDir = 'C:\\\\'\n",
    "\n",
    "corr_narratives_mean = pd.DataFrame(columns=['narrative', 'pearson', 'spearman'])\n",
    "corr_narratives_median = pd.DataFrame(columns=['narrative', 'pearson', 'spearman'])\n",
    "\n",
    "mean_social = pd.Series()\n",
    "mean_tom = pd.Series()\n",
    "median_social = pd.Series()\n",
    "median_tom = pd.Series()\n",
    "\n",
    "for n in range(1,9):\n",
    "    # read mean data for one narrative\n",
    "    social_data = pd.read_csv(os.path.join(socialDataDir, f\"narrative{n}_mean.csv\"))\n",
    "    social_data.loc[social_data['included']==0, ['mean', 'std']] = np.nan\n",
    "    tom_data = pd.read_csv(os.path.join(tomDataDir, f\"narrative{n}_mean.csv\"))\n",
    "    tom_data.loc[tom_data['included']==0, ['mean', 'std']] = np.nan\n",
    "\n",
    "    # calculate correlation for this narrative\n",
    "    pearson = social_data['mean'].corr(tom_data['mean'], method='pearson')\n",
    "    spearman = social_data['mean'].corr(tom_data['mean'], method='spearman')\n",
    "    corr_narratives_mean = pd.concat([corr_narratives_mean, \n",
    "                                      pd.DataFrame({'narrative': n, 'pearson': pearson, 'spearman': spearman}, index=[n-5])], ignore_index=True)\n",
    "\n",
    "    # concatenate data from all narratives into one dataframe\n",
    "    mean_social = pd.concat([mean_social, social_data['mean']], axis=0)   \n",
    "    mean_tom = pd.concat([mean_tom, tom_data['mean']], axis=0)\n",
    "\n",
    "    # read median data for one narrative\n",
    "    social_data = pd.read_csv(os.path.join(socialDataDir, f\"narrative{n}_median.csv\"))\n",
    "    social_data.loc[social_data['included']==0, ['median', 'std']] = np.nan\n",
    "    tom_data = pd.read_csv(os.path.join(tomDataDir, f\"narrative{n}_median.csv\"))\n",
    "    tom_data.loc[tom_data['included']==0, ['median', 'std']] = np.nan\n",
    "\n",
    "    # calculate correlation for this narrative\n",
    "    pearson = social_data['median'].corr(tom_data['median'], method='pearson')\n",
    "    spearman = social_data['median'].corr(tom_data['median'], method='spearman')\n",
    "    corr_narratives_median = pd.concat([corr_narratives_median, \n",
    "                                        pd.DataFrame({'narrative': n, 'pearson': pearson, 'spearman': spearman}, index=[n-5])], ignore_index=True)\n",
    "    \n",
    "    # concatenate data from all narratives into one dataframe\n",
    "    median_social = pd.concat([median_social, social_data['median']], axis=0)\n",
    "    median_tom = pd.concat([median_tom, tom_data['median']], axis=0)\n",
    "\n",
    "# calculate correlation for all narratives\n",
    "pearson_mean = mean_social.corr(mean_tom, method='pearson')\n",
    "spearman_mean = mean_social.corr(mean_tom, method='spearman')\n",
    "pearson_median = median_social.corr(median_tom, method='pearson')\n",
    "spearman_median = median_social.corr(median_tom, method='spearman')\n",
    "\n",
    "# print results\n",
    "print('Correlation between social and tom data for each narrative (mean):')\n",
    "print(corr_narratives_mean)\n",
    "print()\n",
    "print('Correlation between social and tom data for each narrative (median):')\n",
    "print(corr_narratives_median)\n",
    "print()\n",
    "print('Correlation for all narratives (mean data):')\n",
    "print(f'Pearson correlation: {pearson_mean}')\n",
    "print(f'Spearman correlation: {spearman_mean}')\n",
    "print()\n",
    "print('Correlation for all narratives (median data):')\n",
    "print(f'Pearson correlation: {pearson_median}')\n",
    "print(f'Spearman correlation: {spearman_median}')"
   ]
  },
  {
   "cell_type": "code",
   "execution_count": 4,
   "metadata": {},
   "outputs": [
    {
     "name": "stdout",
     "output_type": "stream",
     "text": [
      "Correlation between social and tom data for each narrative (median):\n",
      "  narrative   pearson  spearman\n",
      "0         1 -0.108763 -0.142516\n",
      "1         2  0.502130  0.615102\n",
      "2         3  0.621432  0.623383\n",
      "3         4  0.358679  0.363846\n",
      "4         5  0.474134  0.504193\n",
      "5         6  0.246612  0.294862\n",
      "6         7  0.753914  0.745873\n",
      "7         8  0.221399  0.300874\n",
      "\n",
      "Correlation for all narratives (median data):\n",
      "Pearson correlation: 0.3226134923930169\n",
      "Spearman correlation: 0.33405817407008953\n"
     ]
    }
   ],
   "source": [
    "# calculate correlation for only medians\n",
    "socialDataDir = 'C:\\\\'\n",
    "tomDataDir = 'C:\\\\'\n",
    "\n",
    "corr_narratives_median = pd.DataFrame(columns=['narrative', 'pearson', 'spearman'])\n",
    "median_social = pd.Series()\n",
    "median_tom = pd.Series()\n",
    "\n",
    "for n in range(1,9):\n",
    "    # read median data for one narrative\n",
    "    social_data = pd.read_csv(os.path.join(socialDataDir, f\"narrative{n}_median.csv\"))\n",
    "    social_data.loc[social_data['included']==0, ['median', 'std']] = np.nan\n",
    "    tom_data = pd.read_csv(os.path.join(tomDataDir, f\"narrative{n}_median.csv\"))\n",
    "    tom_data.loc[tom_data['included']==0, ['median', 'mad']] = np.nan\n",
    "\n",
    "    # calculate correlation for this narrative\n",
    "    pearson = social_data['median'].corr(tom_data['median'], method='pearson')\n",
    "    spearman = social_data['median'].corr(tom_data['median'], method='spearman')\n",
    "    corr_narratives_median = pd.concat([corr_narratives_median, \n",
    "                                        pd.DataFrame({'narrative': n, 'pearson': pearson, 'spearman': spearman}, index=[n-5])], ignore_index=True)\n",
    "    \n",
    "    # concatenate data from all narratives into one dataframe\n",
    "    median_social = pd.concat([median_social, social_data['median']], axis=0)\n",
    "    median_tom = pd.concat([median_tom, tom_data['median']], axis=0)\n",
    "\n",
    "# calculate correlation for all narratives\n",
    "pearson_median = median_social.corr(median_tom, method='pearson')\n",
    "spearman_median = median_social.corr(median_tom, method='spearman')\n",
    "\n",
    "# print results\n",
    "print('Correlation between social and tom data for each narrative (median):')\n",
    "print(corr_narratives_median)\n",
    "print()\n",
    "print('Correlation for all narratives (median data):')\n",
    "print(f'Pearson correlation: {pearson_median}')\n",
    "print(f'Spearman correlation: {spearman_median}')"
   ]
  },
  {
   "cell_type": "code",
   "execution_count": 12,
   "metadata": {},
   "outputs": [],
   "source": [
    "# save the correlations by narratives results to csv\n",
    "corr_narratives_mean.to_csv('C:\\\\', index=False)\n",
    "corr_narratives_median.to_csv('C:\\\\', index=False)"
   ]
  }
 ],
 "metadata": {
  "kernelspec": {
   "display_name": "base",
   "language": "python",
   "name": "python3"
  },
  "language_info": {
   "codemirror_mode": {
    "name": "ipython",
    "version": 3
   },
   "file_extension": ".py",
   "mimetype": "text/x-python",
   "name": "python",
   "nbconvert_exporter": "python",
   "pygments_lexer": "ipython3",
   "version": "3.9.17"
  }
 },
 "nbformat": 4,
 "nbformat_minor": 2
}
