{
 "cells": [
  {
   "attachments": {},
   "cell_type": "markdown",
   "metadata": {},
   "source": [
    "### Generate event files and check multicollinearity"
   ]
  },
  {
   "attachments": {},
   "cell_type": "markdown",
   "metadata": {},
   "source": [
    "*Zizhuang Miao*"
   ]
  },
  {
   "attachments": {},
   "cell_type": "markdown",
   "metadata": {},
   "source": [
    "This script is used to generate event files from the consensus annotations of four experimenters. Also in the later part, the codes tested whether there is a multicollinearity problem in the design matrix. The code is on social interactions but should be very easy to be changed to theory of mind."
   ]
  },
  {
   "cell_type": "markdown",
   "metadata": {},
   "source": [
    "#### Generate event files"
   ]
  },
  {
   "cell_type": "code",
   "execution_count": 7,
   "metadata": {},
   "outputs": [
    {
     "name": "stdout",
     "output_type": "stream",
     "text": [
      "There is no behavior timing file for sub-0011 run-02!\n",
      "The whole duration of run-01 is 439.76 seconds.\n",
      "The whole duration of narratives is 233.02 seconds.\n",
      "The duration of social interaction is 170.87 seconds, which takes 73.33% of the narratives duration.\n",
      "The whole duration of run-02 is 499.36 seconds.\n",
      "The whole duration of narratives is 293.82 seconds.\n",
      "The duration of social interaction is 177.44 seconds, which takes 60.39% of the narratives duration.\n",
      "The whole duration of run-03 is 591.34 seconds.\n",
      "The whole duration of narratives is 400.73 seconds.\n",
      "The duration of social interaction is 209.46 seconds, which takes 52.27% of the narratives duration.\n",
      "The whole duration of run-04 is 525.88 seconds.\n",
      "The whole duration of narratives is 325.31 seconds.\n",
      "The duration of social interaction is 146.93 seconds, which takes 45.17% of the narratives duration.\n",
      "There is no behavior timing file for sub-0038 run-03!\n",
      "There is no behavior timing file for sub-0069 run-03!\n"
     ]
    }
   ],
   "source": [
    "import pandas as pd\n",
    "import os\n",
    "\n",
    "dataDir = \"\"    # the directory of the annotations in .csv files\n",
    "timingDir = \"\"    # the directory of the timing files from the scanning\n",
    "outputDir = \"\"\n",
    "\n",
    "subList = list(pd.read_csv(\"\")['subjects'])\n",
    "# subList = ['sub-0017']    # test\n",
    "\n",
    "for sub in subList:\n",
    "    for run in ['01', '02', '03', '04']:\n",
    "        timingFile = timingDir + sub + \"\\\\ses\" + sub[3:] + \"\\\\\" + sub + \"_ses-02_task-narratives_run-\" + run + \"_beh.csv\"\n",
    "        if not os.path.isfile(timingFile):\n",
    "            print(f'There is no behavior timing file for {sub} run-{run}!')\n",
    "            continue\n",
    "        timing = pd.read_csv(timingFile)    # behavior timing file for this run\n",
    "        runStart = timing.loc[0, 'event01_fixation_onset']\n",
    "        Stim = []\n",
    "        Onset = []\n",
    "        Duration = []\n",
    "        if run == '01' or run == '02':\n",
    "            socStr = 'SocInt_audio'\n",
    "            notsocStr = 'noSocInt_audio'\n",
    "        else:\n",
    "            socStr = 'SocInt_text'\n",
    "            notsocStr = 'noSocInt_text'\n",
    "        \n",
    "        for i in range(len(timing)):\n",
    "            chunkName = timing.loc[i, 'param_stimulus_filename'][:20]\n",
    "            trialStart = timing.loc[i, 'event02_administer_onset']    # when stimuli began to present\n",
    "            annot = pd.read_csv(dataDir + chunkName + \"_transcript_annotated.csv\")    # annotated word-by-word text\n",
    "            if annot.loc[0, 'socialInteraction'] == 0:    # this trial starts with not social\n",
    "                Stim.append(notsocStr)\n",
    "                soc_boolean = 0\n",
    "            else:\n",
    "                Stim.append(socStr)\n",
    "                soc_boolean = 1\n",
    "            Onset.append(trialStart - runStart)\n",
    "            \n",
    "            for j in range(1, len(annot)):\n",
    "                if annot.loc[j, 'socialInteraction'] != annot.loc[j-1, 'socialInteraction']:\n",
    "                    if soc_boolean == 0:    # not social previously, and social now\n",
    "                        Stim.append(socStr)\n",
    "                    else:    # social previously, not social now\n",
    "                        Stim.append(notsocStr)\n",
    "                    soc_boolean = 1 - soc_boolean\n",
    "                    Onset.append(annot.loc[j, 'onset'] + trialStart - runStart)\n",
    "                    Duration.append(Onset[-1] - Onset[-2])\n",
    "            \n",
    "            ratingStart = timing.loc[i, 'event03_feel_displayonset']\n",
    "            Duration.append(ratingStart - (Onset[-1] + runStart))\n",
    "            Stim.append('rating')\n",
    "            Onset.append(ratingStart - runStart)\n",
    "            Duration.append(8)\n",
    "    \n",
    "        eventDf = pd.DataFrame({'Stim': Stim, 'Onset': Onset, 'Duration': Duration})\n",
    "        if sub == 'sub-0017':\n",
    "            durSoc = sum(eventDf[eventDf.Stim == socStr]['Duration'])\n",
    "            durnotSoc = sum(eventDf[eventDf.Stim == notsocStr]['Duration'])\n",
    "            print(f'The whole duration of run-{run} is {Onset[-1]+Duration[-1]:.2f} seconds.')\n",
    "            print(f'The whole duration of narratives is {durSoc+durnotSoc:.2f} seconds.')\n",
    "            print(f'The duration of social interaction is {durSoc:.2f} seconds, which takes {durSoc*100/(durSoc+durnotSoc):.2f}% of the narratives duration.')\n",
    "        outputFile = outputDir + sub + \"_run-\" + run + \"_social_manual.csv\"\n",
    "        eventDf.to_csv(outputFile, header=True, index=False)"
   ]
  },
  {
   "cell_type": "markdown",
   "metadata": {},
   "source": [
    "#### Check Multicollinearity"
   ]
  },
  {
   "cell_type": "code",
   "execution_count": 1,
   "metadata": {},
   "outputs": [],
   "source": [
    "# run this cell first to get the VIF function\n",
    "import pandas as pd\n",
    "import numpy as np\n",
    "import os\n",
    "import matplotlib.pyplot as plt\n",
    "from nltools.data import Design_Matrix\n",
    "from nltools.file_reader import onsets_to_dm\n",
    "from statsmodels.stats.outliers_influence import variance_inflation_factor\n",
    "\n",
    "# define a function to calculate VIF for each column\n",
    "def calculate_vif(dataframe):\n",
    "    vif_data = pd.DataFrame()\n",
    "    vif_data[\"Variable\"] = dataframe.columns\n",
    "    vif_data[\"VIF\"] = [variance_inflation_factor(dataframe.values, i) for i in range(dataframe.shape[1])]\n",
    "    return vif_data"
   ]
  },
  {
   "cell_type": "markdown",
   "metadata": {},
   "source": [
    "##### 1. Original regressors (SInt_audio, NSoc_audio, SInt_text, and NSoc_text)"
   ]
  },
  {
   "cell_type": "code",
   "execution_count": 15,
   "metadata": {},
   "outputs": [
    {
     "name": "stdout",
     "output_type": "stream",
     "text": [
      "            SInt_audio  SInt_text  NSoc_audio  NSoc_text    Rating\n",
      "SInt_audio    1.000000  -0.212510   -0.090643  -0.222848 -0.261707\n",
      "SInt_text    -0.212510   1.000000   -0.154651  -0.167455 -0.275099\n",
      "NSoc_audio   -0.090643  -0.154651    1.000000  -0.162174 -0.198625\n",
      "NSoc_text    -0.222848  -0.167455   -0.162174   1.000000 -0.295466\n",
      "Rating       -0.261707  -0.275099   -0.198625  -0.295466  1.000000\n",
      "            SInt_audio  SInt_text  NSoc_audio  NSoc_text    Rating\n",
      "SInt_audio    1.000000  -0.191850   -0.045914  -0.201626 -0.317812\n",
      "SInt_text    -0.191850   1.000000   -0.141094  -0.160925 -0.307785\n",
      "NSoc_audio   -0.045914  -0.141094    1.000000  -0.148284 -0.275898\n",
      "NSoc_text    -0.201626  -0.160925   -0.148284   1.000000 -0.361451\n",
      "Rating       -0.317812  -0.307785   -0.275898  -0.361451  1.000000\n"
     ]
    },
    {
     "data": {
      "image/png": "[encoded data removed]",
      "text/plain": [
       "<Figure size 300x300 with 1 Axes>"
      ]
     },
     "metadata": {},
     "output_type": "display_data"
    },
    {
     "data": {
      "image/png": "[encoded data removed]",
      "text/plain": [
       "<Figure size 300x300 with 1 Axes>"
      ]
     },
     "metadata": {},
     "output_type": "display_data"
    }
   ],
   "source": [
    "eventsDir = \"\"\n",
    "\n",
    "tr = 0.46\n",
    "\n",
    "for sub in ['sub-0080', 'sub-0081']:    # two possible sequences, thus two possible design matrices\n",
    "    allDm = Design_Matrix(sampling_freq = 1/tr)\n",
    "    allDmCon = Design_Matrix(sampling_freq = 1/tr)\n",
    "    for run in ['01', '02', '03', '04']:\n",
    "        eventsFile = pd.read_csv(os.path.join(eventsDir, f'{sub}_ses-02_task-narratives_run-{run}_socialIntearctionEvents_Zizhuang.csv'))\n",
    "        runLength = round((eventsFile.loc[eventsFile.Stim==\"rating\", \"Onset\"].iloc[-1] + eventsFile.loc[eventsFile.Stim==\"rating\", \"Duration\"].iloc[-1])/tr)\n",
    "        dm = onsets_to_dm(eventsFile, sampling_freq=1/tr, run_length=runLength)\n",
    "        allDm = allDm.append(dm, axis=0)\n",
    "        dmCon = dm.convolve()\n",
    "        allDmCon = allDmCon.append(dmCon, axis=0)\n",
    "    allDm.columns = ['SInt_audio', 'SInt_text', 'NSoc_audio', 'NSoc_text', 'Rating']\n",
    "    allDmCon.columns = ['SInt_audio', 'SInt_text', 'NSoc_audio', 'NSoc_text', 'Rating']\n",
    "    allDmCon.heatmap(figsize=(3,3))\n",
    "    \n",
    "print(allDm.corr())\n",
    "print(allDmCon.corr())"
   ]
  },
  {
   "cell_type": "code",
   "execution_count": 6,
   "metadata": {},
   "outputs": [
    {
     "name": "stdout",
     "output_type": "stream",
     "text": [
      "The VIF values of the original design matrix are as follows:\n",
      "     Variable       VIF\n",
      "0  SInt_audio  1.009733\n",
      "1   SInt_text  1.003502\n",
      "2  NSoc_audio  1.012751\n",
      "3   NSoc_text  1.007895\n",
      "4      Rating  1.018694\n"
     ]
    }
   ],
   "source": [
    "print('The VIF values of the original design matrix are as follows:')\n",
    "print(calculate_vif(allDmCon))"
   ]
  },
  {
   "cell_type": "markdown",
   "metadata": {},
   "source": [
    "##### 2. Merge two conditions into one"
   ]
  },
  {
   "cell_type": "code",
   "execution_count": 16,
   "metadata": {},
   "outputs": [
    {
     "name": "stdout",
     "output_type": "stream",
     "text": [
      "           SInt      NSoc    Rating\n",
      "SInt    1.00000 -0.398280 -0.427790\n",
      "NSoc   -0.39828  1.000000 -0.386937\n",
      "Rating -0.42779 -0.386937  1.000000\n",
      "            SInt      NSoc    Rating\n",
      "SInt    1.000000 -0.337494 -0.501368\n",
      "NSoc   -0.337494  1.000000 -0.500738\n",
      "Rating -0.501368 -0.500738  1.000000\n"
     ]
    },
    {
     "data": {
      "image/png": "[encoded data removed]",
      "text/plain": [
       "<Figure size 300x300 with 1 Axes>"
      ]
     },
     "metadata": {},
     "output_type": "display_data"
    },
    {
     "data": {
      "image/png": "[encoded data removed]",
      "text/plain": [
       "<Figure size 300x300 with 1 Axes>"
      ]
     },
     "metadata": {},
     "output_type": "display_data"
    }
   ],
   "source": [
    "eventsDir = \"\"\n",
    "\n",
    "tr = 0.46\n",
    "\n",
    "for sub in ['sub-0080', 'sub-0081']:    # two possible sequences, thus two possible design matrices\n",
    "    allDm = Design_Matrix(sampling_freq = 1/tr)\n",
    "    allDmCon = Design_Matrix(sampling_freq = 1/tr)\n",
    "    \n",
    "    for run in ['01', '02', '03', '04']:\n",
    "        eventsFile = pd.read_csv(os.path.join(eventsDir, f'{sub}_ses-02_task-narratives_run-{run}_socialIntearctionEvents_Zizhuang.csv'))\n",
    "        runLength = round((eventsFile.loc[eventsFile.Stim==\"rating\", \"Onset\"].iloc[-1] + eventsFile.loc[eventsFile.Stim==\"rating\", \"Duration\"].iloc[-1])/tr)\n",
    "        dm = onsets_to_dm(eventsFile, sampling_freq=1/tr, run_length=runLength)\n",
    "        allDm = allDm.append(dm, axis=0)\n",
    "    \n",
    "    # merge the two regressors in two conditions to one\n",
    "    allDm.loc[allDm.SocInt_text==1, \"SocInt_audio\"] = 1\n",
    "    allDm.loc[allDm.noSocInt_text==1, \"noSocInt_audio\"] = 1\n",
    "    allDm.drop([\"noSocInt_text\", \"SocInt_text\"], axis=1, inplace=True)\n",
    "\n",
    "    allDmCon = allDm.convolve()\n",
    "    allDm.columns = ['SInt', 'NSoc', 'Rating']\n",
    "    allDmCon.columns = ['SInt', 'NSoc', 'Rating']\n",
    "    allDmCon.heatmap(figsize=(3,3))\n",
    "    \n",
    "print(allDm.corr())\n",
    "print(allDmCon.corr())"
   ]
  },
  {
   "cell_type": "code",
   "execution_count": 21,
   "metadata": {},
   "outputs": [
    {
     "name": "stdout",
     "output_type": "stream",
     "text": [
      "The VIF values of the original design matrix are as follows:\n",
      "  Variable       VIF\n",
      "0     SInt  1.008730\n",
      "1     NSoc  1.016261\n",
      "2   Rating  1.020316\n"
     ]
    }
   ],
   "source": [
    "print('The VIF values of the original design matrix are as follows:')\n",
    "print(calculate_vif(allDmCon))"
   ]
  }
 ],
 "metadata": {
  "kernelspec": {
   "display_name": "base",
   "language": "python",
   "name": "python3"
  },
  "language_info": {
   "codemirror_mode": {
    "name": "ipython",
    "version": 3
   },
   "file_extension": ".py",
   "mimetype": "text/x-python",
   "name": "python",
   "nbconvert_exporter": "python",
   "pygments_lexer": "ipython3",
   "version": "3.9.17"
  },
  "orig_nbformat": 4
 },
 "nbformat": 4,
 "nbformat_minor": 2
}
